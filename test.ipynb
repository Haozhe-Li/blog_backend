{
 "cells": [
  {
   "cell_type": "code",
   "execution_count": 12,
   "metadata": {},
   "outputs": [],
   "source": [
    "from IPython.core.display import HTML\n",
    "import requests"
   ]
  },
  {
   "cell_type": "code",
   "execution_count": 21,
   "metadata": {},
   "outputs": [],
   "source": [
    "def test_get_all_blogs():\n",
    "    \"\"\"Test the /get endpoint that returns all blog overviews\"\"\"\n",
    "    response = requests.get('http://127.0.0.1:5000/get')\n",
    "    if response.status_code == 200:\n",
    "        print(\"Successfully retrieved all blogs:\")\n",
    "        print(response.json())\n",
    "    else:\n",
    "        print(f\"Failed with status code: {response.status_code}\")\n",
    "\n",
    "def test_get_specific_blog(blog_id):\n",
    "    \"\"\"Test the /get/<blog_id> endpoint that returns a specific blog\"\"\"\n",
    "    response = requests.get(f'http://127.0.0.1:5000/get/{blog_id}')\n",
    "    if response.status_code == 200:\n",
    "        print(f\"Successfully retrieved blog {blog_id}:\")\n",
    "        print(response.json())\n",
    "        return response.json()\n",
    "    else:\n",
    "        print(f\"Failed with status code: {response.status_code}\")"
   ]
  },
  {
   "cell_type": "code",
   "execution_count": 22,
   "metadata": {},
   "outputs": [
    {
     "name": "stdout",
     "output_type": "stream",
     "text": [
      "Testing get all blogs endpoint...\n",
      "Successfully retrieved all blogs:\n",
      "{'blogs': [{'author': 'John Doe', 'cover': 'cover.jpg', 'date': '2019-01-01', 'description': 'This is a sample blog', 'id': 'sample_blog', 'title': 'Sample Blog'}]}\n"
     ]
    }
   ],
   "source": [
    "print(\"Testing get all blogs endpoint...\")\n",
    "test_get_all_blogs()"
   ]
  },
  {
   "cell_type": "code",
   "execution_count": 23,
   "metadata": {},
   "outputs": [
    {
     "name": "stdout",
     "output_type": "stream",
     "text": [
      "\n",
      "Testing get specific blog endpoint...\n",
      "Successfully retrieved blog sample_blog:\n",
      "{'blog': '<h1>Hello!</h1>\\n', 'overview': {'author': 'John Doe', 'cover': 'cover.jpg', 'date': '2019-01-01', 'description': 'This is a sample blog', 'id': 'sample_blog', 'title': 'Sample Blog'}}\n"
     ]
    },
    {
     "data": {
      "text/html": [
       "<h1>Hello!</h1>\n"
      ],
      "text/plain": [
       "<IPython.core.display.HTML object>"
      ]
     },
     "execution_count": 23,
     "metadata": {},
     "output_type": "execute_result"
    }
   ],
   "source": [
    "print(\"\\nTesting get specific blog endpoint...\")\n",
    "html_content = test_get_specific_blog('sample_blog')['content']\n",
    "HTML(html_content)"
   ]
  }
 ],
 "metadata": {
  "kernelspec": {
   "display_name": ".venv",
   "language": "python",
   "name": "python3"
  },
  "language_info": {
   "codemirror_mode": {
    "name": "ipython",
    "version": 3
   },
   "file_extension": ".py",
   "mimetype": "text/x-python",
   "name": "python",
   "nbconvert_exporter": "python",
   "pygments_lexer": "ipython3",
   "version": "3.13.0"
  }
 },
 "nbformat": 4,
 "nbformat_minor": 2
}
